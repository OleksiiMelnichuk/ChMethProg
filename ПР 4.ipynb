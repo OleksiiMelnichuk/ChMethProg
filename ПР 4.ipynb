{
 "cells": [
  {
   "cell_type": "code",
   "execution_count": 29,
   "id": "2aac5c27",
   "metadata": {},
   "outputs": [],
   "source": [
    "import numpy as np"
   ]
  },
  {
   "cell_type": "code",
   "execution_count": 30,
   "id": "c229bf20",
   "metadata": {},
   "outputs": [
    {
     "name": "stdout",
     "output_type": "stream",
     "text": [
      "[[ 4 -8]\n",
      " [12 -4]]\n"
     ]
    }
   ],
   "source": [
    "A=np.matrix('1 2; 4 -1')\n",
    "B=np.matrix('2 -3;-4 1')\n",
    "C=A*B-B*A\n",
    "\n",
    "print(C)"
   ]
  },
  {
   "cell_type": "code",
   "execution_count": 31,
   "id": "6c38bc60",
   "metadata": {},
   "outputs": [
    {
     "name": "stdout",
     "output_type": "stream",
     "text": [
      "[[1 0]\n",
      " [0 1]]\n"
     ]
    }
   ],
   "source": [
    "A=np.matrix('-1 2; 0 1')\n",
    "A_2=A**2\n",
    "\n",
    "print(A_2)"
   ]
  },
  {
   "cell_type": "code",
   "execution_count": 32,
   "id": "14158102",
   "metadata": {},
   "outputs": [
    {
     "name": "stdout",
     "output_type": "stream",
     "text": [
      "[[-9 13]\n",
      " [15  4]]\n"
     ]
    }
   ],
   "source": [
    "A=np.matrix('3 5; 6 -1')\n",
    "B=np.matrix('2 1; -3 2')\n",
    "C=A*B\n",
    "\n",
    "print(C)"
   ]
  },
  {
   "cell_type": "code",
   "execution_count": 33,
   "id": "4fab2100",
   "metadata": {},
   "outputs": [
    {
     "name": "stdout",
     "output_type": "stream",
     "text": [
      "35\n"
     ]
    }
   ],
   "source": [
    "A=np.matrix('2 3 4; 1 0 6; 7 8 9')\n",
    "\n",
    "print(format(np.linalg.det(A), '.9g'))"
   ]
  },
  {
   "cell_type": "code",
   "execution_count": 34,
   "id": "fabe7511",
   "metadata": {},
   "outputs": [
    {
     "name": "stdout",
     "output_type": "stream",
     "text": [
      "900\n"
     ]
    }
   ],
   "source": [
    "A=np.matrix('1 2 3 4; -2 1 -4 3; 3 -4 -1 2; 4 3 -2 -1')\n",
    "\n",
    "print(format(np.linalg.det(A), '.9g'))"
   ]
  },
  {
   "cell_type": "code",
   "execution_count": 35,
   "id": "084486ea",
   "metadata": {},
   "outputs": [
    {
     "name": "stdout",
     "output_type": "stream",
     "text": [
      "[[ 1. -2.  7.]\n",
      " [ 0.  1. -2.]\n",
      " [ 0.  0.  1.]]\n"
     ]
    }
   ],
   "source": [
    "A=np.matrix('1 2 -3; 0 1 2; 0 0 1')\n",
    "\n",
    "print(np.linalg.inv(A))"
   ]
  },
  {
   "cell_type": "code",
   "execution_count": 36,
   "id": "fdc028e5",
   "metadata": {},
   "outputs": [
    {
     "name": "stdout",
     "output_type": "stream",
     "text": [
      "2\n"
     ]
    }
   ],
   "source": [
    "A=np.matrix('1 2 3 4; 3 -1 2 5; 1 2 3 4; 1 3 4 5')\n",
    "\n",
    "print(np.linalg.matrix_rank(A))"
   ]
  },
  {
   "cell_type": "code",
   "execution_count": 37,
   "id": "89cfab0a",
   "metadata": {},
   "outputs": [
    {
     "name": "stdout",
     "output_type": "stream",
     "text": [
      "  x=\n",
      " [[ 1.]\n",
      " [-0.]\n",
      " [ 3.]]\n"
     ]
    }
   ],
   "source": [
    "A=np.matrix('2 -1 1; 3 4 -2; 1 -3 1')\n",
    "B=np.matrix('5;-3; 4')\n",
    "A_inv=np.linalg.inv(A)\n",
    "X=A_inv.dot(B)\n",
    "\n",
    "print('  x=\\n',X.round(3))"
   ]
  },
  {
   "cell_type": "code",
   "execution_count": 38,
   "id": "df713676",
   "metadata": {},
   "outputs": [
    {
     "name": "stdout",
     "output_type": "stream",
     "text": [
      "x= 1.0 y= 0.0 z= 3.0\n"
     ]
    },
    {
     "data": {
      "text/plain": [
       "(1.0000000000000004, 5.828670879282059e-16, 3.0)"
      ]
     },
     "execution_count": 38,
     "metadata": {},
     "output_type": "execute_result"
    }
   ],
   "source": [
    "A = np.matrix('2 -1 1; 3 4 -2; 1 -3 1')\n",
    "B = np.matrix('5; -3; 4')\n",
    "\n",
    "def kramer(A, B):\n",
    "    det_A=np.linalg.det(A)\n",
    "    if det_A!=0:\n",
    "        A1=np.matrix(A)\n",
    "        A2=np.matrix(A)\n",
    "        A3=np.matrix(A)\n",
    "        A1[:,0]=B\n",
    "        A2[:,1]=B\n",
    "        A3[:,2]=B\n",
    "        x=np.linalg.det(A1)/det_A\n",
    "        y=np.linalg.det(A2)/det_A\n",
    "        z=np.linalg.det(A3)/det_A\n",
    "        print('x=', x.round(3), 'y=', y.round(3), 'z=', z.round(3))\n",
    "    else:\n",
    "        print('Визначник дорівнює нулю, система не має розвязків')\n",
    "    return x, y, z\n",
    "kramer(A, B)"
   ]
  },
  {
   "cell_type": "code",
   "execution_count": 39,
   "id": "135cea80",
   "metadata": {},
   "outputs": [
    {
     "name": "stdout",
     "output_type": "stream",
     "text": [
      "x= 1.0 y= 0.0 z= 3.0\n"
     ]
    },
    {
     "data": {
      "text/plain": [
       "(1.0000000000000004, 5.828670879282059e-16, 3.0)"
      ]
     },
     "execution_count": 39,
     "metadata": {},
     "output_type": "execute_result"
    }
   ],
   "source": [
    "A = np.matrix('2 -1 1; 3 4 -2; 1 -3 1')\n",
    "B = np.matrix('5; -3; 4')\n",
    "\n",
    "def kramer(A, B):\n",
    "    det_A=np.linalg.det(A)\n",
    "    if det_A!=0:\n",
    "        A1=np.matrix(A)\n",
    "        A2=np.matrix(A)\n",
    "        A3=np.matrix(A)\n",
    "        A1[:,0]=B\n",
    "        A2[:,1]=B\n",
    "        A3[:,2]=B\n",
    "        x=np.linalg.det(A1)/det_A\n",
    "        y=np.linalg.det(A2)/det_A\n",
    "        z=np.linalg.det(A3)/det_A\n",
    "        print('x=', x.round(3), 'y=', y.round(3), 'z=', z.round(3))\n",
    "    else:\n",
    "        print('Визначник дорівнює нулю, система не має розвязків')\n",
    "    return x, y, z\n",
    "kramer(A, B)"
   ]
  },
  {
   "cell_type": "code",
   "execution_count": 40,
   "id": "966dd312",
   "metadata": {},
   "outputs": [
    {
     "name": "stdout",
     "output_type": "stream",
     "text": [
      "Перевірка:\n",
      " [[ 1.]\n",
      " [-0.]\n",
      " [ 3.]]\n"
     ]
    }
   ],
   "source": [
    "print('Перевірка:\\n', np.linalg.solve(A,B).round(3))"
   ]
  },
  {
   "cell_type": "code",
   "execution_count": 100,
   "id": "aa9c9a76",
   "metadata": {},
   "outputs": [
    {
     "name": "stdout",
     "output_type": "stream",
     "text": [
      "Згенерована матриця:\n",
      " [[  3   8]\n",
      " [  2  -5]\n",
      " [  4   2]\n",
      " [  1   0]\n",
      " [ -7  -8]\n",
      " [  4 -10]]\n",
      "\n",
      "Кількість негативних елементів в кожному рядку:\n",
      "Рядок 1: 0\n",
      "Рядок 2: 1\n",
      "Рядок 3: 0\n",
      "Рядок 4: 0\n",
      "Рядок 5: 2\n",
      "Рядок 6: 1\n",
      "\n",
      "Кількість негативних елементів в кожному стовпці:\n",
      "Стовпець 1: 1\n",
      "Стовпець 2: 3\n"
     ]
    }
   ],
   "source": [
    "import numpy as np\n",
    "\n",
    "n = np.random.randint(1, 10)\n",
    "m = np.random.randint(1, 10)\n",
    "mat = np.random.randint(-10, 10, size=(n, m))\n",
    "print('Згенерована матриця:\\n', mat)\n",
    "\n",
    "row_neg = np.sum(mat < 0, axis=1)\n",
    "col_neg = np.sum(mat < 0, axis=0)\n",
    "\n",
    "print(\"\\nКількість негативних елементів в кожному рядку:\")\n",
    "for i in range(n):\n",
    "    print(f\"Рядок {i + 1}: {row_neg[i]}\")\n",
    "\n",
    "print(\"\\nКількість негативних елементів в кожному стовпці:\")\n",
    "for j in range(m):\n",
    "    print(f\"Стовпець {j + 1}: {col_neg[j]}\")"
   ]
  },
  {
   "cell_type": "code",
   "execution_count": null,
   "id": "f385dbee",
   "metadata": {},
   "outputs": [],
   "source": []
  }
 ],
 "metadata": {
  "kernelspec": {
   "display_name": "Python 3",
   "language": "python",
   "name": "python3"
  },
  "language_info": {
   "codemirror_mode": {
    "name": "ipython",
    "version": 3
   },
   "file_extension": ".py",
   "mimetype": "text/x-python",
   "name": "python",
   "nbconvert_exporter": "python",
   "pygments_lexer": "ipython3",
   "version": "3.6.8"
  }
 },
 "nbformat": 4,
 "nbformat_minor": 5
}
