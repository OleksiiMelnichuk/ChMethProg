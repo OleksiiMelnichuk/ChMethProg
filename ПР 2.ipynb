{
 "cells": [
  {
   "cell_type": "code",
   "execution_count": 46,
   "id": "19c9dc08",
   "metadata": {},
   "outputs": [],
   "source": [
    "import math \n",
    "import numpy as np \n",
    "from scipy.misc import derivative "
   ]
  },
  {
   "cell_type": "code",
   "execution_count": 54,
   "id": "c234e090",
   "metadata": {},
   "outputs": [
    {
     "name": "stdout",
     "output_type": "stream",
     "text": [
      "Знайденний проміжок: [(-2, -1), (0, 1)]\n"
     ]
    }
   ],
   "source": [
    "def f(x): \n",
    "    return 3*pow(x, 4)+2*pow(x, 3)+pow(x, 2)+x-5 \n",
    "eps=0.0001 \n",
    " \n",
    "def find_segments():\n",
    "    search_range=np.arange(-10, 10, 1)     \n",
    "    a=None \n",
    "    prev_x=None \n",
    "    curr_x=None \n",
    "    segments=[] \n",
    "    for x in search_range: \n",
    "        x=round(x, 3) \n",
    "        curr_x=f(x) \n",
    "        if prev_x!=None: \n",
    "            if prev_x==0:\n",
    "                segments.append((a, x))\n",
    "            elif prev_x*curr_x<0:\n",
    "                segments.append((a, x))\n",
    "        a=x \n",
    "        prev_x=curr_x \n",
    "    return segments\n",
    "\n",
    "segments=find_segments() \n",
    "print('Знайденний проміжок:', segments)"
   ]
  },
  {
   "cell_type": "code",
   "execution_count": 55,
   "id": "48a5766f",
   "metadata": {},
   "outputs": [],
   "source": [
    "def half(a, b, eps):\n",
    "    while(abs(a-b)>eps): \n",
    "        if f(a)*f((a+b)/2)<0:  \n",
    "            b=(a+b)/2  \n",
    "        else:  \n",
    "            a=(a+b)/2 \n",
    "        x=(a+b)/2     \n",
    "    print('x=', round(x,5), '- Метод половинного ділення') \n",
    "\n",
    "def hord(a,b,eps): \n",
    "    if(f(a)*derivative(f,a,n=2)>0): \n",
    "        x0=a \n",
    "        xi=b \n",
    "    else: \n",
    "        x0=b \n",
    "        xi=a \n",
    "    xi_1=xi-(xi-x0)*f(xi)/(f(xi)-f(x0)) \n",
    "    while(abs(xi_1-xi)>eps): \n",
    "        xi=xi_1 \n",
    "        xi_1=xi-(xi-x0)*f(xi)/(f(xi)-f(x0)) \n",
    "    print('x=', round (xi_1,5) , '- Метод хорд') "
   ]
  },
  {
   "cell_type": "code",
   "execution_count": 56,
   "id": "b6507ed9",
   "metadata": {},
   "outputs": [
    {
     "name": "stdout",
     "output_type": "stream",
     "text": [
      "Розв’язок нелінійного рівняння на відрізку [-2, -1]\n",
      "x= -1.3237 - Метод половинного ділення\n",
      "x= -1.32357 - Метод хорд\n"
     ]
    }
   ],
   "source": [
    "a=-2\n",
    "b=-1\n",
    "print(f'Розв’язок нелінійного рівняння на відрізку [{a}, {b}]') \n",
    "half(a,b,eps)\n",
    "hord(a,b,eps)"
   ]
  },
  {
   "cell_type": "code",
   "execution_count": 57,
   "id": "79ba0c1b",
   "metadata": {},
   "outputs": [
    {
     "name": "stdout",
     "output_type": "stream",
     "text": [
      "Розв’язок нелінійного рівняння на відрізку [0, 1]\n",
      "x= 0.89163 - Метод половинного ділення\n",
      "x= 0.8916 - Метод хорд\n"
     ]
    }
   ],
   "source": [
    "a=0\n",
    "b=1\n",
    "print(f'Розв’язок нелінійного рівняння на відрізку [{a}, {b}]') \n",
    "half(a1,b1,eps)\n",
    "hord(a1,b1,eps)"
   ]
  },
  {
   "cell_type": "code",
   "execution_count": null,
   "id": "bd9545ca",
   "metadata": {},
   "outputs": [],
   "source": []
  }
 ],
 "metadata": {
  "kernelspec": {
   "display_name": "Python 3",
   "language": "python",
   "name": "python3"
  },
  "language_info": {
   "codemirror_mode": {
    "name": "ipython",
    "version": 3
   },
   "file_extension": ".py",
   "mimetype": "text/x-python",
   "name": "python",
   "nbconvert_exporter": "python",
   "pygments_lexer": "ipython3",
   "version": "3.6.8"
  }
 },
 "nbformat": 4,
 "nbformat_minor": 5
}
