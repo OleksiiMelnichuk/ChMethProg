{
 "cells": [
  {
   "cell_type": "code",
   "execution_count": 67,
   "id": "e79697cd",
   "metadata": {},
   "outputs": [],
   "source": [
    "import math \n",
    "import numpy as np \n",
    "from scipy.misc import derivative "
   ]
  },
  {
   "cell_type": "code",
   "execution_count": 99,
   "id": "33c968dd",
   "metadata": {},
   "outputs": [
    {
     "name": "stdout",
     "output_type": "stream",
     "text": [
      "Знайденний проміжок: [(-2, -1), (1, 2)]\n"
     ]
    }
   ],
   "source": [
    "def f(x): \n",
    "    #return 3*pow(x, 4)+2*pow(x, 3)+pow(x, 2)+x-5\n",
    "    return 6*pow(x, 4)+4*pow(x, 3)-pow(x, 2)-x-10\n",
    "eps=0.0001 \n",
    " \n",
    "def find_segments():\n",
    "    search_range=np.arange(-10, 10, 1)     \n",
    "    a=None \n",
    "    prev_x=None \n",
    "    curr_x=None \n",
    "    segments=[] \n",
    "    for x in search_range: \n",
    "        x=round(x, 3) \n",
    "        curr_x=f(x) \n",
    "        if prev_x!=None: \n",
    "            if prev_x==0:\n",
    "                segments.append((a, x))\n",
    "            elif prev_x*curr_x<0:\n",
    "                segments.append((a, x))\n",
    "        a=x \n",
    "        prev_x=curr_x \n",
    "    return segments\n",
    "\n",
    "segments=find_segments() \n",
    "print('Знайденний проміжок:', segments)"
   ]
  },
  {
   "cell_type": "code",
   "execution_count": 107,
   "id": "b8f71c73",
   "metadata": {},
   "outputs": [],
   "source": [
    "def newton(a, b, eps):\n",
    "    df2=derivative(f, b, n=2)\n",
    "    if (f(b)*df2>0):\n",
    "        xi=b\n",
    "    else:\n",
    "        xi=a\n",
    "    df=derivative(f, xi, n=1)\n",
    "    xi1=xi-f(xi)/df\n",
    "    while abs(xi1 - xi)>eps:\n",
    "        xi=xi1\n",
    "        xi1=xi-f(xi)/df\n",
    "    return print('x=', round(xi1, 5) ,'- Вирішення рівняння методом Ньютона')\n",
    "\n",
    "def comb(a, b, eps):\n",
    "    if (derivative(f, a, n=1)*derivative(f, a, n=2)>0):\n",
    "        a0=a\n",
    "        b0=b\n",
    "    else:\n",
    "        a0=b\n",
    "        b0=a\n",
    "    ai=a0\n",
    "    bi=b0\n",
    "    while abs(ai-bi)>eps:\n",
    "        ai1=ai-f(ai)*(bi-ai)/(f(bi)-f(ai))\n",
    "        bi1=bi-f(bi)/derivative(f, bi, n=1)\n",
    "        ai=ai1\n",
    "        bi=bi1\n",
    "    x=((ai1+bi1)/2)\n",
    "    return print('x=', round(x, 5), '- Вирішення рівняння комбінованим методом')"
   ]
  },
  {
   "cell_type": "code",
   "execution_count": 108,
   "id": "ec9fc913",
   "metadata": {},
   "outputs": [
    {
     "name": "stdout",
     "output_type": "stream",
     "text": [
      "Розв’язок нелінійного рівняння на відрізку [-2, -1]\n",
      "x= -1.36105 - Вирішення рівняння методом Ньютона\n",
      "x= -1.36072 - Вирішення рівняння комбінованим методом\n"
     ]
    }
   ],
   "source": [
    "a=-2\n",
    "b=-1\n",
    "print(f'Розв’язок нелінійного рівняння на відрізку [{a}, {b}]') \n",
    "newton(a, b, eps)\n",
    "comb(a, b, eps)"
   ]
  },
  {
   "cell_type": "code",
   "execution_count": 109,
   "id": "7c446506",
   "metadata": {},
   "outputs": [
    {
     "name": "stdout",
     "output_type": "stream",
     "text": [
      "Розв’язок нелінійного рівняння на відрізку [1, 2]\n",
      "x= 1.05662 - Вирішення рівняння методом Ньютона\n",
      "x= 1.05604 - Вирішення рівняння комбінованим методом\n"
     ]
    }
   ],
   "source": [
    "a=1\n",
    "b=2\n",
    "print(f'Розв’язок нелінійного рівняння на відрізку [{a}, {b}]') \n",
    "newton(a, b, eps)\n",
    "comb(a, b, eps)"
   ]
  },
  {
   "cell_type": "code",
   "execution_count": null,
   "id": "08a39c2f",
   "metadata": {},
   "outputs": [],
   "source": []
  }
 ],
 "metadata": {
  "kernelspec": {
   "display_name": "Python 3",
   "language": "python",
   "name": "python3"
  },
  "language_info": {
   "codemirror_mode": {
    "name": "ipython",
    "version": 3
   },
   "file_extension": ".py",
   "mimetype": "text/x-python",
   "name": "python",
   "nbconvert_exporter": "python",
   "pygments_lexer": "ipython3",
   "version": "3.6.8"
  }
 },
 "nbformat": 4,
 "nbformat_minor": 5
}
