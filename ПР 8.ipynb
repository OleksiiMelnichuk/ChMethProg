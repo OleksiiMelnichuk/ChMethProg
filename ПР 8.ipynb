{
 "cells": [
  {
   "cell_type": "code",
   "execution_count": 8,
   "id": "45298669",
   "metadata": {},
   "outputs": [],
   "source": [
    "import numpy as np\n",
    "from scipy.interpolate import CubicSpline\n",
    "import matplotlib.pyplot as plt"
   ]
  },
  {
   "cell_type": "code",
   "execution_count": 39,
   "id": "ecc01703",
   "metadata": {
    "scrolled": true
   },
   "outputs": [
    {
     "name": "stdout",
     "output_type": "stream",
     "text": [
      "Відрізок 1:\n",
      "S_0(x)=2.39+9.0839(x-1.4)+0.0(x-1.4)^2+-44.5964(x-1.4)^3, x належить проміжку [1.4, 1.6]\n",
      "Відрізок 2:\n",
      "S_1(x)=3.85+3.7323(x-1.6)+-26.7578(x-1.6)^2+26.224(x-1.6)^3, x належить проміжку [1.6, 2.0]\n",
      "Відрізок 3:\n",
      "S_2(x)=2.74+-5.0865(x-2.0)+4.7109(x-2.0)^2+1.644(x-2.0)^3, x належить проміжку [2.0, 2.5]\n",
      "Відрізок 4:\n",
      "S_3(x)=1.58+-0.2541(x-2.5)+7.1769(x-2.5)^2+3.9872(x-2.5)^3, x належить проміжку [2.5, 3.1]\n"
     ]
    }
   ],
   "source": [
    "x=np.array([1.4, 1.6, 2, 2.5, 3.1])\n",
    "y=np.array([2.39, 3.85, 2.74, 1.58, 3.15])\n",
    "n=len(x)-1\n",
    "h=np.diff(x)\n",
    "a=y\n",
    "b=np.zeros(n)\n",
    "c=np.zeros(n)\n",
    "d=np.zeros(n)\n",
    "alpha=np.zeros(n)\n",
    "\n",
    "for i in range(1, n):\n",
    "    alpha[i]=(3/h[i])*(a[i+1]-a[i])-(3/h[i-1])*(a[i]-a[i-1])\n",
    "    \n",
    "l=np.ones(n)\n",
    "mu=np.zeros(n)\n",
    "z=np.zeros(n)\n",
    "\n",
    "for i in range(1, n):\n",
    "    l[i]=2*(x[i+1]-x[i-1])-h[i-1]*mu[i-1]\n",
    "    mu[i]=h[i]/l[i]\n",
    "    z[i]=(alpha[i]-h[i-1]*z[i-1])/l[i]\n",
    "    \n",
    "c[n-1]=(alpha[n-1]-h[n-2]*z[n-2])/(2*(h[n-2]+mu[n-1]))\n",
    "b[n-1]=(a[n]-a[n-1])/h[n-1]-h[n-1]*(2*c[n-1]+c[n-2])/3\n",
    "d[n-1]=(c[n-1]-c[n-2])/(3*h[n-1])\n",
    "    \n",
    "for j in range(n -2, -1, -1):\n",
    "    c[j]=z[j]-mu[j]*c[j+1]\n",
    "    b[j]=(a[j+1]-a[j])/h[j]-h[j]*(c[j+1]+2*c[j])/3\n",
    "    d[j]=(c[j+1]-c[j])/(3*h[j])\n",
    "\n",
    "for i in range(n):\n",
    "    print(f\"Відрізок {i+1}:\")\n",
    "    print(f\"S_{i}(x)={a[i]}+{b[i].round(4)}(x-{x[i]})+{c[i].round(4)}(x-{x[i]})^2+{d[i].round(4)}(x-{x[i]})^3, x належить проміжку [{x[i]}, {x[i+1]}]\")"
   ]
  },
  {
   "cell_type": "code",
   "execution_count": 38,
   "id": "65d5bc69",
   "metadata": {},
   "outputs": [
    {
     "data": {
      "image/png": "[encoded data removed]",
      "text/plain": [
       "<Figure size 576x432 with 1 Axes>"
      ]
     },
     "metadata": {
      "needs_background": "light"
     },
     "output_type": "display_data"
    }
   ],
   "source": [
    "cs = CubicSpline(x, y)\n",
    "x_new = numpy.linspace(numpy.min(x), numpy.max(x), 100)\n",
    "y_new = cs(x_new)\n",
    "\n",
    "plt.figure(figsize=(8, 6))\n",
    "plt.plot(x, y, 'o', c=\"b\", label='Точки')\n",
    "plt.plot(x_new, y_new, label='Кубічний сплайн', color='orange')\n",
    "plt.xlabel('x')\n",
    "plt.ylabel('y')\n",
    "plt.title('Кубічний сплайн', color='green')\n",
    "plt.legend()\n",
    "plt.grid(True)\n",
    "plt.show()"
   ]
  },
  {
   "cell_type": "code",
   "execution_count": null,
   "id": "b18cdf33",
   "metadata": {},
   "outputs": [],
   "source": []
  }
 ],
 "metadata": {
  "kernelspec": {
   "display_name": "Python 3",
   "language": "python",
   "name": "python3"
  },
  "language_info": {
   "codemirror_mode": {
    "name": "ipython",
    "version": 3
   },
   "file_extension": ".py",
   "mimetype": "text/x-python",
   "name": "python",
   "nbconvert_exporter": "python",
   "pygments_lexer": "ipython3",
   "version": "3.6.8"
  }
 },
 "nbformat": 4,
 "nbformat_minor": 5
}
