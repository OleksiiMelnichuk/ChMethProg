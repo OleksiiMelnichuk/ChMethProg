{
 "cells": [
  {
   "cell_type": "code",
   "execution_count": 2,
   "id": "4c402426",
   "metadata": {},
   "outputs": [],
   "source": [
    "import numpy as np\n",
    "from math import factorial\n",
    "import matplotlib.pyplot as plt"
   ]
  },
  {
   "cell_type": "code",
   "execution_count": 4,
   "id": "25c90ff9",
   "metadata": {},
   "outputs": [],
   "source": [
    "x = np.array ([1.415, 1.42, 1.425, 1.43, 1.435, 1.44, 1.445, 1.45, 1.455, 1.46, 1.465])\n",
    "y = np.array([0.8885, 0.8895, 0.8906, 0.8916, 0.8926, 0.8936, 0.8947, 0.8956, 0.8966, 0.8976, 0.8986])"
   ]
  },
  {
   "cell_type": "code",
   "execution_count": 6,
   "id": "614a3503",
   "metadata": {},
   "outputs": [],
   "source": [
    "def first_interpolation(x, y, x0):\n",
    "    n = len(x)\n",
    "    f = np.zeros((n, n))\n",
    "    f[:, 0] = y    \n",
    "    for j in range(1, n):\n",
    "        for i in range(n - j):\n",
    "            f[i, j] = (f[i+1, j-1] - f[i, j-1]) / (x[i+j] - x[i])\n",
    "    ans = 0\n",
    "    for j in range(n):\n",
    "        prod = f[0, j]\n",
    "        for i in range(j):\n",
    "            prod *= (x0 - x[i])\n",
    "        ans += prod\n",
    "    return ans\n",
    "\n",
    "def second_interpolation(x, y, x0):\n",
    "    n = len(x)\n",
    "    f = np.zeros((n, n))\n",
    "    f[:, 0] = y\n",
    "    for j in range(1, n):\n",
    "        for i in range(n - j):\n",
    "            f[i, j] = (f[i+1, j-1] - f[i, j-1]) / (x[i+j] - x[i])\n",
    "    ans = f[0, 0]\n",
    "    for j in range(1, n):\n",
    "        prod = f[0, j]\n",
    "        for i in range(j):\n",
    "            prod *= (x0 - x[i])\n",
    "        ans += prod\n",
    "    return ans"
   ]
  },
  {
   "cell_type": "code",
   "execution_count": 7,
   "id": "90cc90a1",
   "metadata": {},
   "outputs": [
    {
     "name": "stdout",
     "output_type": "stream",
     "text": [
      "f(1.431) = 0.8918095572774911\n",
      "f(1.462) = 0.8975780814143485\n"
     ]
    }
   ],
   "source": [
    "x1 = 1.431\n",
    "x2 = 1.462\n",
    "y1 = first_interpolation(x, y, x1)\n",
    "y2 = second_interpolation(x, y, x2)\n",
    "print(f\"f({x1}) = {y1}\")\n",
    "print(f\"f({x2}) = {y2}\")"
   ]
  },
  {
   "cell_type": "code",
   "execution_count": 10,
   "id": "3ace173f",
   "metadata": {},
   "outputs": [
    {
     "data": {
      "image/png": "[encoded data removed]",
      "text/plain": [
       "<Figure size 432x288 with 1 Axes>"
      ]
     },
     "metadata": {
      "needs_background": "light"
     },
     "output_type": "display_data"
    }
   ],
   "source": [
    "xx = np.linspace(np.min(x), np.max(x), 100)\n",
    "yy = np.zeros_like(xx)\n",
    "for i in range(len(xx)):\n",
    "    yy[i] = first_interpolation(x, y, xx[i])\n",
    "plt.plot(x, y, 'o', label='Дані точки')\n",
    "plt.plot(xx, yy, label='багаточлен Н*ютона')\n",
    "plt.title(\"Графік інтерполяційної функції Ньютона\")\n",
    "plt.xlabel(\"x\")\n",
    "plt.ylabel(\"y\")\n",
    "plt.legend()\n",
    "plt.show()"
   ]
  },
  {
   "cell_type": "code",
   "execution_count": null,
   "id": "db4db6c7",
   "metadata": {},
   "outputs": [],
   "source": []
  }
 ],
 "metadata": {
  "kernelspec": {
   "display_name": "Python 3",
   "language": "python",
   "name": "python3"
  },
  "language_info": {
   "codemirror_mode": {
    "name": "ipython",
    "version": 3
   },
   "file_extension": ".py",
   "mimetype": "text/x-python",
   "name": "python",
   "nbconvert_exporter": "python",
   "pygments_lexer": "ipython3",
   "version": "3.6.8"
  }
 },
 "nbformat": 4,
 "nbformat_minor": 5
}
