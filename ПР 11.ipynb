{
 "cells": [
  {
   "cell_type": "code",
   "execution_count": 7,
   "id": "58251dc4",
   "metadata": {},
   "outputs": [],
   "source": [
    "import numpy\n",
    "import numpy as np \n",
    "from scipy import integrate\n"
   ]
  },
  {
   "cell_type": "code",
   "execution_count": 11,
   "id": "ecfa3f84",
   "metadata": {},
   "outputs": [
    {
     "name": "stdout",
     "output_type": "stream",
     "text": [
      "Метод правих прямокутників: 1.1622\n",
      "Метод лівих прямокутників: 1.1623\n",
      "Метод середніх прямокутників: 1.1623\n"
     ]
    }
   ],
   "source": [
    "a=2\n",
    "b=3.5\n",
    "eps=0.0001\n",
    "\n",
    "def f(x):\n",
    "    return 1/(x-1)**0.5\n",
    "\n",
    "def r_rect_meth(a, b, n):\n",
    "    h=(b-a)/n\n",
    "    res=0\n",
    "    for i in range(1, n+1):\n",
    "        res += f(a+i*h)\n",
    "    res *= h\n",
    "    return res\n",
    "\n",
    "def l_rect_meth(a, b, n):\n",
    "    h=(b-a)/n\n",
    "    res=0\n",
    "    for i in range(n):\n",
    "        res+=f(a+i*h)\n",
    "    res *= h\n",
    "    return res\n",
    "\n",
    "def m_rect_meth(a, b, n):\n",
    "    h=(b-a)/n\n",
    "    res=0\n",
    "    for i in range(n):\n",
    "        res += f(a+(i+0.5)*h)\n",
    "    res *= h\n",
    "    return res\n",
    "\n",
    "def int_with_eps(a, b, eps):\n",
    "    n=10\n",
    "    prev_res=None\n",
    "    while True:\n",
    "        res_r=r_rect_meth(a, b, n)\n",
    "        res_l = l_rect_meth(a, b, n)\n",
    "        res_mid = m_rect_meth(a, b, n)\n",
    "        if prev_res is not None and abs(res_r - prev_res)<eps:\n",
    "            break\n",
    "\n",
    "        prev_res=res_r\n",
    "        n *= 2\n",
    "\n",
    "    return res_r, res_l, res_mid\n",
    "\n",
    "res_r, res_l, res_m = int_with_eps(a, b, eps)\n",
    "\n",
    "print(f\"Метод правих прямокутників: {res_r:.4f}\")\n",
    "print(f\"Метод лівих прямокутників: {res_l:.4f}\")\n",
    "print(f\"Метод середніх прямокутників: {res_m:.4f}\")"
   ]
  },
  {
   "cell_type": "code",
   "execution_count": 13,
   "id": "5f2d15db",
   "metadata": {},
   "outputs": [
    {
     "name": "stdout",
     "output_type": "stream",
     "text": [
      "Метод Сімпсона: 0.2614\n"
     ]
    }
   ],
   "source": [
    "def f(x):\n",
    "    return np.sin(x)/(x+1)\n",
    "\n",
    "a = 0.18\n",
    "b = 0.98\n",
    "eps = 0.0001\n",
    "\n",
    "def sim_meth(a, b, n):\n",
    "    h=(b-a)/n\n",
    "    res=f(a)+f(b)\n",
    "    for i in range(1, n):\n",
    "        if i % 2 == 0:\n",
    "            res += 2*f(a+i*h)\n",
    "        else:\n",
    "            res += 4*f(a+i*h)\n",
    "    res *= h/3\n",
    "    return res\n",
    "\n",
    "def int_with_eps_sim(a, b, eps):\n",
    "    n=8\n",
    "    prev_res=None\n",
    "    while True:\n",
    "        res_sim=sim_meth(a, b, n)\n",
    "        if prev_res is not None and abs(res_sim-prev_res)<eps:\n",
    "            break\n",
    "        prev_res=res_sim\n",
    "        n *= 2\n",
    "    return res_sim\n",
    "\n",
    "res_sim=int_with_eps_sim(a, b, eps)\n",
    "print(f\"Метод Сімпсона: {res_sim:.4f}\")"
   ]
  },
  {
   "cell_type": "code",
   "execution_count": 10,
   "id": "8916d892",
   "metadata": {},
   "outputs": [
    {
     "name": "stdout",
     "output_type": "stream",
     "text": [
      "Метод трапеций: 0.2842\n"
     ]
    }
   ],
   "source": [
    "a = 3.2\n",
    "b = 4\n",
    "eps = 0.0001\n",
    "\n",
    "def f(x):\n",
    "    return 1/(3*(x**2)-0.4)**0.5\n",
    "\n",
    "def trap_meth(a, b, n):\n",
    "    h=(b-a)/n\n",
    "    res=(f(a)+f(b))/2\n",
    "    for i in range(1, n):\n",
    "        res += f(a+i*h)\n",
    "    res *= h\n",
    "    return res\n",
    "\n",
    "def int_with_eps_trap(a, b, eps):\n",
    "    n=20\n",
    "    prev_res=None\n",
    "    while True:\n",
    "        res_trap=trap_meth(a, b, n)\n",
    "        if prev_res is not None and abs(res_trap-prev_res)<eps:\n",
    "            break\n",
    "        prev_res=res_trap\n",
    "        n *= 2\n",
    "        \n",
    "    return res_trap\n",
    "\n",
    "res_trap=int_with_eps_trap(a, b, eps)\n",
    "\n",
    "print(f\"Метод трапеций: {res_trap:.4f}\")"
   ]
  },
  {
   "cell_type": "code",
   "execution_count": null,
   "id": "585fc53a",
   "metadata": {},
   "outputs": [],
   "source": []
  }
 ],
 "metadata": {
  "kernelspec": {
   "display_name": "Python 3",
   "language": "python",
   "name": "python3"
  },
  "language_info": {
   "codemirror_mode": {
    "name": "ipython",
    "version": 3
   },
   "file_extension": ".py",
   "mimetype": "text/x-python",
   "name": "python",
   "nbconvert_exporter": "python",
   "pygments_lexer": "ipython3",
   "version": "3.6.8"
  }
 },
 "nbformat": 4,
 "nbformat_minor": 5
}
